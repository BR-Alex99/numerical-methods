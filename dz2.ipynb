{
 "cells": [
  {
   "cell_type": "code",
   "execution_count": 1,
   "metadata": {},
   "outputs": [],
   "source": [
    "from math import fabs\n",
    "import numpy as np\n",
    "import matplotlib.pyplot as plt\n",
    "%matplotlib inline"
   ]
  },
  {
   "cell_type": "code",
   "execution_count": 2,
   "metadata": {},
   "outputs": [
    {
     "name": "stdout",
     "output_type": "stream",
     "text": [
      "1:a=-1.00000000  c=-0.50000000  b=0.00000000 f(a)=-6.25000000  f(c)=-1.87500000  f(b)=1.75000000 \n",
      "2:a=-0.50000000  c=-0.25000000  b=0.00000000 f(a)=-1.87500000  f(c)=-0.01562500  f(b)=1.75000000 \n",
      "3:a=-0.25000000  c=-0.12500000  b=0.00000000 f(a)=-0.01562500  f(c)=0.87304688  f(b)=1.75000000 \n",
      "4:a=-0.25000000  c=-0.18750000  b=-0.12500000 f(a)=-0.01562500  f(c)=0.43090820  f(b)=0.87304688 \n",
      "5:a=-0.25000000  c=-0.21875000  b=-0.18750000 f(a)=-0.01562500  f(c)=0.20828247  f(b)=0.43090820 \n",
      "6:a=-0.25000000  c=-0.23437500  b=-0.21875000 f(a)=-0.01562500  f(c)=0.09650040  f(b)=0.20828247 \n",
      "7:a=-0.25000000  c=-0.24218750  b=-0.23437500 f(a)=-0.01562500  f(c)=0.04048204  f(b)=0.09650040 \n"
     ]
    }
   ],
   "source": [
    "#Задание 5\n",
    "#Метод половинного деления\n",
    "epsilon=0.01\n",
    "from math import fabs\n",
    "def F(x):\n",
    "    return(float(x*x*x+7*x+1.75))\n",
    "ab=[-1.0,0.0]\n",
    "i=0\n",
    "while  fabs(ab[0]-ab[1])>epsilon:\n",
    "    c=(ab[0]+ab[1])/2\n",
    "    i+=1\n",
    "    print(\"{i}:a={a:.8f}  c={c:.8f}  b={b:.8f} f(a)={fa:.8f}  f(c)={fc:.8f}  f(b)={fb:.8f} \"\n",
    "          .format(i=i,a=ab[0],b=ab[1],c=c,fa=F(ab[0]),fb=F(ab[1]),fc=F(c)))\n",
    "    if (F(ab[0])*F(c))<0:\n",
    "        ab[1]=c\n",
    "    elif F(ab[1])*F(c)<0:\n",
    "        ab[0]=c"
   ]
  },
  {
   "cell_type": "code",
   "execution_count": 3,
   "metadata": {},
   "outputs": [
    {
     "name": "stdout",
     "output_type": "stream",
     "text": [
      "1:a=0.00000000  c=0.50000000  b=1.00000000 f(a)=-2.00000000  f(c)=-0.37500000  f(b)=2.00000000 \n",
      "2:a=0.50000000  c=0.92105263  b=1.00000000 f(a)=-0.37500000  f(c)=1.54452180  f(b)=2.00000000 \n",
      "3:a=0.50000000  c=0.83879530  b=0.92105263 f(a)=-0.37500000  f(c)=1.10654346  f(b)=1.54452180 \n",
      "4:a=0.50000000  c=0.75304133  b=0.83879530 f(a)=-0.37500000  f(c)=0.68615207  f(b)=1.10654346 \n",
      "5:a=0.50000000  c=0.66361918  b=0.75304133 f(a)=-0.37500000  f(c)=0.28310907  f(b)=0.68615207 \n",
      "6:a=0.50000000  c=0.57038662  b=0.66361918 f(a)=-0.37500000  f(c)=-0.10327004  f(b)=0.28310907 \n",
      "7:a=0.57038662  c=0.63870031  b=0.66361918 f(a)=-0.10327004  f(c)=0.17665111  f(b)=0.28310907 \n",
      "8:a=0.57038662  c=0.61349765  b=0.63870031 f(a)=-0.10327004  f(c)=0.07140081  f(b)=0.17665111 \n",
      "9:a=0.57038662  c=0.58800927  b=0.61349765 f(a)=-0.10327004  f(c)=-0.03266512  f(b)=0.07140081 \n",
      "10:a=0.58800927  c=0.60549713  b=0.61349765 f(a)=-0.03266512  f(c)=0.03848287  f(b)=0.07140081 \n",
      "11:a=0.58800927  c=0.59746819  b=0.60549713 f(a)=-0.03266512  f(c)=0.00568173  f(b)=0.03848287 \n"
     ]
    }
   ],
   "source": [
    "#Метод секущих (хорд)\n",
    "epsilon=0.01\n",
    "from math import fabs\n",
    "def F(x):\n",
    "    return(float(x*x*x+3.0*x-2.0))\n",
    "ab=[0.0,1.0]\n",
    "i=0\n",
    "while  fabs(ab[0]-ab[1])>epsilon:\n",
    "    c=(ab[0]*F(ab[0])-ab[1]*F(ab[1]))/(F(ab[0])-F(ab[1]))\n",
    "    i+=1\n",
    "    print(\"{i}:a={a:.8f}  c={c:.8f}  b={b:.8f} f(a)={fa:.8f}  f(c)={fc:.8f}  f(b)={fb:.8f} \"\n",
    "          .format(i=i,a=ab[0],b=ab[1],c=c,fa=F(ab[0]),fb=F(ab[1]),fc=F(c)))\n",
    "    if (F(ab[0])*F(c))<0:\n",
    "        ab[1]=c\n",
    "    elif F(ab[1])*F(c)<0:\n",
    "        ab[0]=c"
   ]
  },
  {
   "cell_type": "code",
   "execution_count": 4,
   "metadata": {},
   "outputs": [
    {
     "name": "stdout",
     "output_type": "stream",
     "text": [
      "0:a=2.00000000   f(a)=12.75000000  f'(a)=17.00000000  f''(a)=6.00000000 \n",
      "1:a=1.25000000   f(a)=1.47656250  f'(a)=13.34375000  f''(a)=3.75000000 \n",
      "2:a=1.13934426   f(a)=0.02228133  f'(a)=12.94715802  f''(a)=3.41803279 \n",
      "3:a=1.13762332   f(a)=0.00000506  f'(a)=12.94128022  f''(a)=3.41286996 \n",
      "4:a=1.13762293   f(a)=0.00000000  f'(a)=12.94127889  f''(a)=3.41286878 \n",
      "5:a=1.13762293   f(a)=0.00000000  f'(a)=12.94127889  f''(a)=3.41286878 \n"
     ]
    }
   ],
   "source": [
    "#Метод касательных (Ньютона)\n",
    "epsilon=0.01\n",
    "def F(x):\n",
    "    return(float(0.5*x*x*x+11.0*x-13.25))\n",
    "def dF(x):\n",
    "    return(float(1.5*x*x+11.0))\n",
    "def ddF(x):\n",
    "    return(float(3.0*x))\n",
    "ab=[1.0,2.0]\n",
    "if (F(ab[0])*ddF(ab[0])>0):\n",
    "    a=ab[0]\n",
    "else:\n",
    "    a=ab[1]\n",
    "    \n",
    "\n",
    "for i in range(6):\n",
    "    print(\"{i}:a={a:.8f}   f(a)={fa:.8f}  f'(a)={fc:.8f}  f''(a)={fb:.8f} \"\n",
    "          .format(i=i,a=a,fa=F(a),fb=ddF(a),fc=dF(a)))\n",
    "    a=a-F(a)/dF(a)\n",
    "\n",
    "    "
   ]
  },
  {
   "cell_type": "code",
   "execution_count": 5,
   "metadata": {
    "scrolled": true
   },
   "outputs": [
    {
     "name": "stdout",
     "output_type": "stream",
     "text": [
      "0:x=-2.00000000   f(a)=-4.00000000  g(a)=-1.88207206  g'(a)=-0.13572088 \n",
      "1:x=-1.88207206   f(a)=0.35378383  g(a)=-1.89310470  g'(a)=-0.13414358 \n",
      "2:x=-1.89310470   f(a)=-0.03309793  g(a)=-1.89207800  g'(a)=-0.13428920 \n",
      "3:x=-1.89207800   f(a)=0.00308011  g(a)=-1.89217359  g'(a)=-0.13427563 \n",
      "4:x=-1.89217359   f(a)=-0.00028678  g(a)=-1.89216469  g'(a)=-0.13427690 \n",
      "5:x=-1.89216469   f(a)=0.00002670  g(a)=-1.89216552  g'(a)=-0.13427678 \n",
      "6:x=-1.89216552   f(a)=-0.00000249  g(a)=-1.89216544  g'(a)=-0.13427679 \n",
      "7:x=-1.89216544   f(a)=0.00000023  g(a)=-1.89216545  g'(a)=-0.13427679 \n",
      "8:x=-1.89216545   f(a)=-0.00000002  g(a)=-1.89216545  g'(a)=-0.13427679 \n",
      "9:x=-1.89216545   f(a)=0.00000000  g(a)=-1.89216545  g'(a)=-0.13427679 \n"
     ]
    }
   ],
   "source": [
    "#Метод итераций \n",
    "epsilon=0.001\n",
    "def F(x):\n",
    "    return(3.0*x*x*x+3*x+26)\n",
    "def dg(x):\n",
    "    if (-3*x-26)>0:\n",
    "            return(-1/((3.0**1/3)*(pow((-3*x-26),2/3))))\n",
    "    else:\n",
    "            return(-1/((3.0**1/3)*(pow((3*x+26),2/3))))\n",
    "def g(x):\n",
    "    if (-3*x-26)>0:\n",
    "            return(pow((-3*x-26)/3,1/3))\n",
    "    else:\n",
    "            return(-pow(-(-3*x-26)/3,1/3))\n",
    "x=-2\n",
    "i=0\n",
    "while (i<10)or F(x)>epsilon:\n",
    "    print(\"{i}:x={a:.8f}   f(a)={fa:.8f}  g(a)={fc:.8f}  g'(a)={fb:.8f} \".format(i=i,a=x,fa=F(x),fc=g(x),fb=dg(x)))\n",
    "    x=g(x)\n",
    "    i+=1\n",
    "    "
   ]
  },
  {
   "cell_type": "code",
   "execution_count": 6,
   "metadata": {},
   "outputs": [],
   "source": [
    "#Задание 6 . Метод Ньютона ( линеаризации )\n",
    "def F1(x,y):\n",
    "    return (float(x*x*x-y*y*y+17))\n",
    "def F2(x,y):\n",
    "    return (float(x*y-2*y-5))\n",
    "def dF11(x,y):\n",
    "    return(float(3*x*x))\n",
    "def dF12(x,y):\n",
    "    return(float(-3*y*y))\n",
    "def dF21(x,y):\n",
    "    return(float(y))\n",
    "def dF22(x,y):\n",
    "    return(float(x-2))\n"
   ]
  },
  {
   "cell_type": "code",
   "execution_count": 7,
   "metadata": {},
   "outputs": [
    {
     "name": "stdout",
     "output_type": "stream",
     "text": [
      "0: x=3.00000000  y=3.00000000  f1=17.00000000  f2=-2.00000000\n",
      "1: x=3.34259259  y=3.97222222  f1=-8.32936735  f2=0.33307613\n",
      "2: x=3.32292374  y=3.78233060  f1=-0.41898200  f2=0.00373495\n",
      "3: x=3.32483487  y=3.77404330  f1=-0.00074232  f2=-0.00001584\n",
      "4: x=3.32484296  y=3.77403220  f1=-0.00000000  f2=-0.00000000\n",
      "5: x=3.32484296  y=3.77403220  f1=-0.00000000  f2=0.00000000\n",
      "6: x=3.32484296  y=3.77403220  f1=0.00000000  f2=0.00000000\n",
      "7: x=3.32484296  y=3.77403220  f1=-0.00000000  f2=0.00000000\n",
      "8: x=3.32484296  y=3.77403220  f1=0.00000000  f2=0.00000000\n",
      "9: x=3.32484296  y=3.77403220  f1=-0.00000000  f2=0.00000000\n"
     ]
    }
   ],
   "source": [
    "xy=np.array([[3.0],\n",
    "             [3.0]])\n",
    "for i in range (10):\n",
    "    print(\"{i}: x={x:.8f}  y={y:.8f}  f1={F1:.8f}  f2={F2:.8f}\".format(i=i,x=xy[0][0], y=xy[1][0], F1=F1(xy[0][0],xy[1][0]),F2=F2(xy[0][0],xy[1][0])))\n",
    "    J=np.array([[dF11(xy[0][0],xy[1][0]),dF12(xy[0][0],xy[1][0])],\n",
    "               [dF21(xy[0][0],xy[1][0]),dF22(xy[0][0],xy[1][0])]])\n",
    "    obr_J=1/(J[0][0]*J[1][1]-J[1][0]*J[0][1])*np.array([[J[1][1],-J[0][1]],[-J[1][0],J[0][0]]])\n",
    "\n",
    "    f=np.array([[F1(xy[0][0],xy[1][0])],\n",
    "               [F2(xy[0][0],xy[1][0])]])\n",
    "    xy=xy-np.dot(obr_J,f)\n"
   ]
  },
  {
   "cell_type": "code",
   "execution_count": 8,
   "metadata": {},
   "outputs": [
    {
     "name": "stderr",
     "output_type": "stream",
     "text": [
      "C:\\program1\\anaconda\\lib\\site-packages\\ipykernel_launcher.py:19: RuntimeWarning: divide by zero encountered in double_scalars\n"
     ]
    },
    {
     "data": {
      "image/png": "[encoded data removed]",
      "text/plain": [
       "<Figure size 432x288 with 1 Axes>"
      ]
     },
     "metadata": {},
     "output_type": "display_data"
    }
   ],
   "source": [
    "\"\"\"\n",
    "Отрисовка граффика\n",
    "\"\"\"\n",
    "def drive(x,y1,y2):\n",
    "    plt.title('Граффики f1(x) и f2(x)')\n",
    "    plt.xlabel('x')\n",
    "    plt.ylabel('y1') \n",
    "    plt.grid()\n",
    "    plt.plot(x, y1, x, y2)\n",
    "    \n",
    "x = np.linspace(-4, 5, 70)\n",
    "def Fy1(x):\n",
    "    if (x*x*x+17)>0:\n",
    "        return(pow(x*x*x+17,1/3))\n",
    "    else:\n",
    "        return(-pow((-x*x*x+17),1/3))\n",
    "def Fy2(x):\n",
    "    try:\n",
    "        return(5/(x-2))\n",
    "    except:\n",
    "        return(0)\n",
    "y1=[Fy1(i) for i in x]\n",
    "y2=[Fy2(i) for i in x]\n",
    "drive(x,y1,y2)\n"
   ]
  },
  {
   "cell_type": "code",
   "execution_count": 9,
   "metadata": {},
   "outputs": [],
   "source": [
    "#Задание 7. Интерполяция\n",
    "x=np.array([4.0,5.0,6.0,7.0])\n",
    "y=np.array([20.0,17.0,19.0,20.0])\n",
    "x0=5.5"
   ]
  },
  {
   "cell_type": "code",
   "execution_count": 10,
   "metadata": {},
   "outputs": [
    {
     "name": "stdout",
     "output_type": "stream",
     "text": [
      "Метод Лагранжа при подстановке x=5.5 даёт рузультат 17.375\n"
     ]
    }
   ],
   "source": [
    "#Метод Лагранжа \n",
    "def Lagrange(x,y,x0):\n",
    "    return(y[0]*1*(x0-x[1])*(x0-x[2])/(1*(x[0]-x[1])*(x[0]-x[2]))\n",
    "          +y[1]*(x0-x[0])*1*(x0-x[2])/((x[1]-x[0])*1*(x[1]-x[2]))\n",
    "          +y[2]*(x0-x[0])*(x0-x[1])*1/((x[2]-x[0])*(x[2]-x[1]*1)))\n",
    "print(\"Метод Лагранжа при подстановке x={x} даёт рузультат {f}\".format(x=x0, f=Lagrange(x,y,x0)))"
   ]
  },
  {
   "cell_type": "code",
   "execution_count": 11,
   "metadata": {
    "scrolled": true
   },
   "outputs": [
    {
     "name": "stdout",
     "output_type": "stream",
     "text": [
      "Метод Ньютона при подстановке x=5.5 даёт рузультат 17.375\n"
     ]
    }
   ],
   "source": [
    "#Метод Ньютона\n",
    "def f2(x1,y1,x2,y2):\n",
    "    return((y2-y1)/(x2-x1))\n",
    "def f3(x1,y1,x2,y2,x3,y3):\n",
    "    return ((f2(x2,y2,x3,y3)-f2(x1,y1,x2,y2))/(x3-x1))\n",
    "def Newton(x1,x2,x3,y1,y2,y3,x0):\n",
    "    return(y1+f2(x1,y1,x2,y2)*(x0-x1)+f3(x1,y1,x2,y2,x3,y3)*(x0-x1)*(x0-x2))\n",
    "print(\"Метод Ньютона при подстановке x={x} даёт рузультат {f}\".format(x=x0, f=Newton(x[0],x[1],x[2],y[0],y[1],y[2],x0)))"
   ]
  },
  {
   "cell_type": "code",
   "execution_count": 12,
   "metadata": {},
   "outputs": [],
   "source": [
    "#Метод Канонического многочлена"
   ]
  },
  {
   "cell_type": "code",
   "execution_count": 13,
   "metadata": {},
   "outputs": [
    {
     "name": "stdout",
     "output_type": "stream",
     "text": [
      "Метод Канонического многочлнена при подстановке x=5.5 даёт рузультат 17.75\n"
     ]
    }
   ],
   "source": [
    "x1=[x[0]**(3-i) for i in range(4)]\n",
    "x2=[x[1]**(3-i) for i in range(4)]\n",
    "x3=[x[2]**(3-i) for i in range(4)]\n",
    "x4=[x[3]**(3-i) for i in range(4)]\n",
    "X=np.array([x1,x2,x3,x4])\n",
    "Y=y.copy()\n",
    "solve=np.linalg.solve(X, Y)\n",
    "def Kanon (solve,x0):\n",
    "    return(solve[0]*x0**3+solve[1]*x0**2+solve[2]*x0+solve[3])\n",
    "print(\"Метод Канонического многочлнена при подстановке x={x} даёт рузультат {f}\".format(x=x0, f=Kanon(solve,x0)))"
   ]
  },
  {
   "cell_type": "code",
   "execution_count": null,
   "metadata": {},
   "outputs": [],
   "source": []
  }
 ],
 "metadata": {
  "kernelspec": {
   "display_name": "Python 3",
   "language": "python",
   "name": "python3"
  },
  "language_info": {
   "codemirror_mode": {
    "name": "ipython",
    "version": 3
   },
   "file_extension": ".py",
   "mimetype": "text/x-python",
   "name": "python",
   "nbconvert_exporter": "python",
   "pygments_lexer": "ipython3",
   "version": "3.7.6"
  }
 },
 "nbformat": 4,
 "nbformat_minor": 2
}
