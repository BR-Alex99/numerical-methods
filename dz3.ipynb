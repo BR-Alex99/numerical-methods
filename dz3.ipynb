{
 "cells": [
  {
   "cell_type": "code",
   "execution_count": 1,
   "metadata": {},
   "outputs": [],
   "source": [
    "import numpy as np\n",
    "import matplotlib.pyplot as plt\n",
    "%matplotlib inline"
   ]
  },
  {
   "cell_type": "code",
   "execution_count": 2,
   "metadata": {},
   "outputs": [],
   "source": [
    "#Задание 8 аппроксимировать таблицу методом наименьших квадратов\n",
    "x=np.array([-0.50, 2.10, 4.70, 6.90, 8.70, 11.00])\n",
    "y=np.array([0.00, 0.10, 3.70, 13.00, 13.60, 14.18])\n",
    "Lenght=6"
   ]
  },
  {
   "cell_type": "code",
   "execution_count": 3,
   "metadata": {},
   "outputs": [
    {
     "name": "stdout",
     "output_type": "stream",
     "text": [
      "Вид матрицы\n",
      "271.05*a+32.9*b=381.6\n",
      "32.9*a+6*b=44.58\n",
      "a=1.5130228538858959,b=-0.866408648807662\n"
     ]
    }
   ],
   "source": [
    "#8.1 Многочлен первой степени\n",
    "def F1(a,b,x):\n",
    "    return(a*x+b)\n",
    "coef00,coef01,coef10,coef11=0,0,0,0\n",
    "fcoef0,fcoef1=0,0\n",
    "\n",
    "for i in range(Lenght):\n",
    "    coef00+=x[i]**2\n",
    "    coef01+=x[i]\n",
    "    coef10+=x[i]\n",
    "    coef11=Lenght\n",
    "    fcoef0+=x[i]*y[i]\n",
    "    fcoef1+=y[i]\n",
    "A=np.array([[coef00,coef01],\n",
    "           [coef10,coef11]])\n",
    "B=np.array([fcoef0,fcoef1])\n",
    "print(\"Вид матрицы\")\n",
    "print(\"{coef00}*a+{coef01}*b={fcoef0}\".format(coef00=coef00,coef01=coef01,fcoef0=fcoef0))\n",
    "print(\"{coef10}*a+{coef11}*b={fcoef1}\".format(coef10=coef10,coef11=coef11,fcoef1=fcoef1))\n",
    "solve=np.linalg.solve(A, B)\n",
    "a,b=solve[0],solve[1]\n",
    "print(\"a={a},b={b}\".format(a=a,b=b))"
   ]
  },
  {
   "cell_type": "code",
   "execution_count": 4,
   "metadata": {},
   "outputs": [
    {
     "data": {
      "text/plain": [
       "[<matplotlib.lines.Line2D at 0x1afafa1b248>]"
      ]
     },
     "execution_count": 4,
     "metadata": {},
     "output_type": "execute_result"
    },
    {
     "data": {
      "image/png": "[encoded data removed]",
      "text/plain": [
       "<Figure size 432x288 with 1 Axes>"
      ]
     },
     "metadata": {
      "needs_background": "light"
     },
     "output_type": "display_data"
    }
   ],
   "source": [
    "#Отрисовка граффика\n",
    "plt.title('График F1(x) и исходных данных')\n",
    "plt.xlabel('x')\n",
    "plt.ylabel('y') \n",
    "plt.grid()\n",
    "plt.plot(x, y,'ro')\n",
    "x1 = np.linspace(-1, 11,100)\n",
    "y1=[F1(a,b,i) for i in x1]\n",
    "plt.plot(x1, y1)"
   ]
  },
  {
   "cell_type": "code",
   "execution_count": 5,
   "metadata": {
    "scrolled": true
   },
   "outputs": [
    {
     "name": "stdout",
     "output_type": "stream",
     "text": [
      "Вид матрицы\n",
      "23144.166899999997*a+2430.971*b+271.05*c=3446.268\n",
      "2430.971*a+271.05*b+32.9*c=381.6\n",
      "271.05*a+32.9*b+6*c=44.58\n",
      "a=0.0028402297508502055,b=1.4834227135406444,c=-0.8324085915758579\n"
     ]
    }
   ],
   "source": [
    "#8.2 Многочлен второй степени\n",
    "def F2(a,b,c,x):\n",
    "    return(a*(x**2)+b*x+c)\n",
    "coef00,coef01,coef02=0,0,0\n",
    "coef10,coef11,coef12=0,0,0\n",
    "coef20,coef21,coef22=0,0,0\n",
    "fcoef0,fcoef1,fcoef2=0,0,0\n",
    "\n",
    "for i in range(Lenght):\n",
    "    coef00+=x[i]**4\n",
    "    coef01+=x[i]**3\n",
    "    coef02+=x[i]**2\n",
    "    coef10+=x[i]**3\n",
    "    coef11+=x[i]**2\n",
    "    coef12+=x[i]**1\n",
    "    coef20+=x[i]**2\n",
    "    coef21+=x[i]**1\n",
    "    coef22=Lenght\n",
    "    \n",
    "    \n",
    "    fcoef0+=x[i]*x[i]*y[i]\n",
    "    fcoef1+=x[i]*y[i]\n",
    "    fcoef2+=y[i]\n",
    "A=np.array([[coef00,coef01,coef02],\n",
    "           [coef10,coef11,coef12],\n",
    "           [coef20,coef21,coef22]])\n",
    "B=np.array([fcoef0,fcoef1,fcoef2])\n",
    "print(\"Вид матрицы\")\n",
    "print(\"{coef00}*a+{coef01}*b+{coef02}*c={fcoef0}\".format(coef00=coef00,coef01=coef01,coef02=coef02,fcoef0=fcoef0))\n",
    "print(\"{coef00}*a+{coef01}*b+{coef02}*c={fcoef0}\".format(coef00=coef10,coef01=coef11,coef02=coef12,fcoef0=fcoef1))\n",
    "print(\"{coef00}*a+{coef01}*b+{coef02}*c={fcoef0}\".format(coef00=coef20,coef01=coef21,coef02=coef22,fcoef0=fcoef2))\n",
    "solve=np.linalg.solve(A, B)\n",
    "a,b,c=solve[0],solve[1],solve[2]\n",
    "print(\"a={a},b={b},c={c}\".format(a=a,b=b,c=c))\n"
   ]
  },
  {
   "cell_type": "code",
   "execution_count": 6,
   "metadata": {},
   "outputs": [
    {
     "data": {
      "text/plain": [
       "[<matplotlib.lines.Line2D at 0x1afb1374d48>]"
      ]
     },
     "execution_count": 6,
     "metadata": {},
     "output_type": "execute_result"
    },
    {
     "data": {
      "image/png": "[encoded data removed]",
      "text/plain": [
       "<Figure size 432x288 with 1 Axes>"
      ]
     },
     "metadata": {
      "needs_background": "light"
     },
     "output_type": "display_data"
    }
   ],
   "source": [
    "#Отрисовка граффика\n",
    "plt.title('График F2(x) и исходных данных')\n",
    "plt.xlabel('x')\n",
    "plt.ylabel('y') \n",
    "plt.grid()\n",
    "plt.plot(x, y,'ro')\n",
    "x1 = np.linspace(-1, 11,100)\n",
    "y1=[F2(a,b,c,i) for i in x1]\n",
    "plt.plot(x1, y1)"
   ]
  },
  {
   "cell_type": "code",
   "execution_count": 7,
   "metadata": {},
   "outputs": [
    {
     "name": "stdout",
     "output_type": "stream",
     "text": [
      "Вид матрицы\n",
      "2323970.3611649997*a+228867.66538999998*b+23144.166899999997*c+23144.166899999997*d=32484.908999999996\n",
      "228867.66538999998*a+23144.166899999997*b+2430.971*c+2430.971*d=3446.268\n",
      "23144.166899999997*a+2430.971*b+271.05*c+271.05*d=381.6\n",
      "2430.971*a+271.05*b+32.9*c+32.9*d=44.58\n",
      "a=-0.0489267963220167,b=0.7937352935417729,c=-1.5287401314847031,d=-0.0368549446367095\n"
     ]
    }
   ],
   "source": [
    "#8.2 Многочлен третей степени\n",
    "def F3(a,b,c,d,x):\n",
    "    return(a*(x**3)+b*(x**2)+c*x+d)\n",
    "coef00,coef01,coef02,coef03=0,0,0,0\n",
    "coef10,coef11,coef12,coef13=0,0,0,0\n",
    "coef20,coef21,coef22,coef23=0,0,0,0\n",
    "coef30,coef31,coef32,coef33=0,0,0,0\n",
    "\n",
    "\n",
    "fcoef0,fcoef1,fcoef2,fcoef3=0,0,0,0\n",
    "\n",
    "\n",
    "for i in range(Lenght):\n",
    "    coef00+=x[i]**6\n",
    "    coef01+=x[i]**5\n",
    "    coef02+=x[i]**4\n",
    "    coef03+=x[i]**3\n",
    "    coef10+=x[i]**5\n",
    "    coef11+=x[i]**4\n",
    "    coef12+=x[i]**3\n",
    "    coef13+=x[i]**2\n",
    "    coef20+=x[i]**4\n",
    "    coef21+=x[i]**3\n",
    "    coef22+=x[i]**2\n",
    "    coef23+=x[i]\n",
    "    coef30+=x[i]**3\n",
    "    coef31+=x[i]**2\n",
    "    coef32+=x[i]\n",
    "    coef33+=Lenght\n",
    "    \n",
    "    \n",
    "    fcoef0+=x[i]*x[i]*x[i]*y[i]\n",
    "    fcoef1+=x[i]*x[i]*y[i]\n",
    "    fcoef2+=x[i]*y[i]\n",
    "    fcoef3+=y[i]\n",
    "A=np.array([[coef00,coef01,coef02,coef03],\n",
    "           [coef10,coef11,coef12,coef13],\n",
    "           [coef20,coef21,coef22,coef23],\n",
    "           [coef30,coef31,coef32,coef33]])\n",
    "B=np.array([fcoef0,fcoef1,fcoef2,fcoef3])\n",
    "print(\"Вид матрицы\")\n",
    "print(\"{coef00}*a+{coef01}*b+{coef02}*c+{coef02}*d={fcoef0}\"\n",
    "      .format(coef00=coef00,coef01=coef01,coef02=coef02,coef03=coef03,fcoef0=fcoef0))\n",
    "print(\"{coef00}*a+{coef01}*b+{coef02}*c+{coef02}*d={fcoef0}\"\n",
    "      .format(coef00=coef10,coef01=coef11,coef02=coef12,coef03=coef13,fcoef0=fcoef1))\n",
    "print(\"{coef00}*a+{coef01}*b+{coef02}*c+{coef02}*d={fcoef0}\"\n",
    "      .format(coef00=coef20,coef01=coef21,coef02=coef22,coef03=coef23,fcoef0=fcoef2))\n",
    "print(\"{coef00}*a+{coef01}*b+{coef02}*c+{coef02}*d={fcoef0}\"\n",
    "      .format(coef00=coef30,coef01=coef31,coef02=coef32,coef03=coef33,fcoef0=fcoef3))\n",
    "solve=np.linalg.solve(A, B)\n",
    "a,b,c,d=solve[0],solve[1],solve[2],solve[3]\n",
    "print(\"a={a},b={b},c={c},d={d}\".format(a=a,b=b,c=c,d=d))"
   ]
  },
  {
   "cell_type": "code",
   "execution_count": 8,
   "metadata": {
    "scrolled": true
   },
   "outputs": [
    {
     "data": {
      "text/plain": [
       "[<matplotlib.lines.Line2D at 0x1afb216b608>]"
      ]
     },
     "execution_count": 8,
     "metadata": {},
     "output_type": "execute_result"
    },
    {
     "data": {
      "image/png": "[encoded data removed]",
      "text/plain": [
       "<Figure size 432x288 with 1 Axes>"
      ]
     },
     "metadata": {
      "needs_background": "light"
     },
     "output_type": "display_data"
    }
   ],
   "source": [
    "#Отрисовка граффика\n",
    "plt.title('График F3(x) и исходных данных')\n",
    "plt.xlabel('x')\n",
    "plt.ylabel('y') \n",
    "plt.grid()\n",
    "plt.plot(x, y,'ro')\n",
    "x1 = np.linspace(-1, 11,100)\n",
    "y1=[F3(a,b,c,d,i) for i in x1]\n",
    "plt.plot(x1, y1)"
   ]
  },
  {
   "cell_type": "code",
   "execution_count": 9,
   "metadata": {
    "scrolled": false
   },
   "outputs": [
    {
     "data": {
      "text/plain": [
       "[<matplotlib.lines.Line2D at 0x1afb22ada08>]"
      ]
     },
     "execution_count": 9,
     "metadata": {},
     "output_type": "execute_result"
    },
    {
     "data": {
      "image/png": "[encoded data removed]",
      "text/plain": [
       "<Figure size 432x288 with 1 Axes>"
      ]
     },
     "metadata": {
      "needs_background": "light"
     },
     "output_type": "display_data"
    }
   ],
   "source": [
    " # Задание 10 Численное интегрирование\n",
    "\n",
    "def F(x):\n",
    "    return((5*x-2)/(x**2+5))\n",
    "x = np.linspace(-8, -2,60)\n",
    "y=[F(i) for i in x]\n",
    "#Отрисовка граффика\n",
    "plt.title('График F(x)')\n",
    "plt.xlabel('x')\n",
    "plt.ylabel('y') \n",
    "plt.grid()\n",
    "plt.plot(x, y)"
   ]
  },
  {
   "cell_type": "code",
   "execution_count": 10,
   "metadata": {},
   "outputs": [],
   "source": [
    "#10.0.1 применение Формулы Рунге функция\n",
    "def Runge(z1,z2,z3,h1,h2,h3,p):\n",
    "    D1= np.array([\n",
    "        [z1,h1**p,h1**(p+1)],\n",
    "        [z2,h2**p,h2**(p+1)],\n",
    "        [z3,h3**p,h3**(p+1)]\n",
    "    ])\n",
    "    D2=np.array([\n",
    "        [1.0,h1**p,h1**(p+1)],\n",
    "        [1.0,h2**p,h2**(p+1)],\n",
    "        [1.0,h3**p,h3**(p+1)]\n",
    "    ])\n",
    "    print(\"Матрица D1=\")\n",
    "    print(D1)\n",
    "    print(\"Матрица D2=\")\n",
    "    print(D2)\n",
    "    D1=np.linalg.det(D1)\n",
    "    D2=np.linalg.det(D2)\n",
    "    print(\"детерминат D1=\",D2)\n",
    "    print(\"детерминат D2=\",D2)\n",
    "    z=D1/D2\n",
    "    return(z)\n",
    "#10.0.2 применение Формулы  Рунге–Ромберга функция\n",
    "def Runge_for_2(z1,z2,h1,h2,p):\n",
    "    return(z1+(z1-z2)/((h2/h1)**p-1))"
   ]
  },
  {
   "cell_type": "code",
   "execution_count": 11,
   "metadata": {
    "scrolled": false
   },
   "outputs": [
    {
     "name": "stdout",
     "output_type": "stream",
     "text": [
      "Интеграл по методу правых прямоугольников с шашом 1.0 равен -3.942392566782811\n",
      "Интеграл по методу правых прямоугольников с шашом 0.5 равен -3.7900382304780686\n",
      "Интеграл по методу правых прямоугольников с шашом 0.25 равен -3.727150457399381\n"
     ]
    }
   ],
   "source": [
    "#10.1 метод правых прямоугольников.\n",
    "\n",
    "def S1(h):\n",
    "    x= np.linspace(-7,-3,int(5.0/h))\n",
    "    y= [F(i) for i in x ]\n",
    "    s=0\n",
    "    for i in range (len(x)-1):\n",
    "        s+=y[i+1]*(x[i+1]-x[i])\n",
    "    return(s)\n",
    "        \n",
    "for i in [1.0,0.5,0.25]:\n",
    "    print(\"Интеграл по методу правых прямоугольников с шашом {t} равен {S}\".format(t=i,S=S1(i)))"
   ]
  },
  {
   "cell_type": "code",
   "execution_count": 12,
   "metadata": {},
   "outputs": [
    {
     "name": "stdout",
     "output_type": "stream",
     "text": [
      "Матрица D1=\n",
      "[[-3.94239257  1.          1.        ]\n",
      " [-3.79003823  0.25        0.125     ]\n",
      " [-3.72715046  0.0625      0.015625  ]]\n",
      "Матрица D2=\n",
      "[[1.       1.       1.      ]\n",
      " [1.       0.25     0.125   ]\n",
      " [1.       0.0625   0.015625]]\n",
      "детерминат D1= -0.08203124999999999\n",
      "детерминат D2= -0.08203124999999999\n",
      "применение Формулы Рунге к методу вычисления интеграла при помощи правых прямоугольников -3.701464211325058\n"
     ]
    }
   ],
   "source": [
    "S=Runge(S1(1.0),S1(0.5),S1(0.25),1.0,0.5,0.25,2)\n",
    "print(\"применение Формулы Рунге к методу вычисления интеграла при помощи правых прямоугольников {S}\".format(S=S))"
   ]
  },
  {
   "cell_type": "code",
   "execution_count": 13,
   "metadata": {
    "scrolled": true
   },
   "outputs": [
    {
     "name": "stdout",
     "output_type": "stream",
     "text": [
      "Интеграл по формуле трапеции с шашом 1.0 равен -3.677842302232546\n",
      "Интеграл по формуле трапеции с шашом 0.5 равен -4.131517877012694\n",
      "Интеграл по формуле трапеции с шашом 0.25 равен -4.359853602024198\n"
     ]
    }
   ],
   "source": [
    "#10.2 метод Формула трапеций\n",
    "def S2(h):\n",
    "    x= np.linspace(-7,-3,int(5.0/h))\n",
    "    y= [F(i) for i in x ]\n",
    "    s=0\n",
    "    for i in range (len(x)-2):\n",
    "        s+=2*y[i+1]\n",
    "    s+=y[0]+y[-1]\n",
    "    s=s*h/2\n",
    "    return(s)\n",
    "        \n",
    "for i in [1.0,0.5,0.25]:\n",
    "    print(\"Интеграл по формуле трапеции с шашом {t} равен {S}\".format(t=i,S=S2(i)))"
   ]
  },
  {
   "cell_type": "code",
   "execution_count": 14,
   "metadata": {
    "scrolled": true
   },
   "outputs": [
    {
     "name": "stdout",
     "output_type": "stream",
     "text": [
      "Матрица D1=\n",
      "[[-3.6778423   1.          1.        ]\n",
      " [-4.13151788  0.25        0.125     ]\n",
      " [-4.3598536   0.0625      0.015625  ]]\n",
      "Матрица D2=\n",
      "[[1.       1.       1.      ]\n",
      " [1.       0.25     0.125   ]\n",
      " [1.       0.0625   0.015625]]\n",
      "детерминат D1= -0.08203124999999999\n",
      "детерминат D2= -0.08203124999999999\n",
      "применение Формулы Рунге к методу вычисления интеграла по формуле трапеции даёт результат -4.457854430612122\n"
     ]
    }
   ],
   "source": [
    "S=Runge(S2(1.0),S2(0.5),S2(0.25),1.0,0.5,0.25,2)\n",
    "print(\"применение Формулы Рунге к методу вычисления интеграла по формуле трапеции даёт результат {S}\".format(S=S))"
   ]
  },
  {
   "cell_type": "code",
   "execution_count": 15,
   "metadata": {},
   "outputs": [
    {
     "name": "stdout",
     "output_type": "stream",
     "text": [
      "Интеграл по формуле Симпсона с шашом 1.0 равен -3.6706327698197625\n",
      "Интеграл по формуле Симпсона с шашом 0.5 равен -3.5538256250946763\n"
     ]
    }
   ],
   "source": [
    "#10.3 метод Формула Симпсона\n",
    "def S3(h):\n",
    "    x= np.linspace(-7,-3,int(5.0/h))\n",
    "    y= [F(i) for i in x ]\n",
    "    s=0\n",
    "    y1=y[1:-1:2]\n",
    "    y2=y[2:-2:2]\n",
    "    for i in y1:\n",
    "        s+=4*i\n",
    "    for i in y2:\n",
    "        s+=2*i\n",
    "    s+=y[0]+y[-1]\n",
    "    s=s*h/3\n",
    "    return(s)\n",
    "        \n",
    "for i in [1.0,0.5]:\n",
    "    print(\"Интеграл по формуле Симпсона с шашом {t} равен {S}\".format(t=i,S=S3(i)))"
   ]
  },
  {
   "cell_type": "code",
   "execution_count": 16,
   "metadata": {},
   "outputs": [
    {
     "name": "stdout",
     "output_type": "stream",
     "text": [
      "применение Формулы Рунге–Ромберга к методу вычисления интеграла по формуле трапеции даёт результат -4.161762915331371\n"
     ]
    }
   ],
   "source": [
    "S=Runge_for_2(S2(1.0),S2(0.5),1.0,0.5,4)\n",
    "print(\"применение Формулы Рунге–Ромберга к методу вычисления интеграла по формуле трапеции даёт результат {S}\".format(S=S))"
   ]
  }
 ],
 "metadata": {
  "kernelspec": {
   "display_name": "Python 3",
   "language": "python",
   "name": "python3"
  },
  "language_info": {
   "codemirror_mode": {
    "name": "ipython",
    "version": 3
   },
   "file_extension": ".py",
   "mimetype": "text/x-python",
   "name": "python",
   "nbconvert_exporter": "python",
   "pygments_lexer": "ipython3",
   "version": "3.7.6"
  }
 },
 "nbformat": 4,
 "nbformat_minor": 4
}
